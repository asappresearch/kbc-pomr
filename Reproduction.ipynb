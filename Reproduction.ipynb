{
 "cells": [
  {
   "cell_type": "markdown",
   "metadata": {},
   "source": [
    "## Create RxNorm -> CUI lookup with UMLS API\n",
    "\n",
    "First, acquire a [UMLS license](https://www.nlm.nih.gov/databases/umls.html#license_request) if you don't already have one. \n",
    "\n",
    "Then, replace `'MY-SECRET-KEY'` in the cell below with your UMLS API key.\n",
    "\n",
    "Then we can initialize embeddings for the RxNorm codes in the annotations, using existing CUI embeddings."
   ]
  },
  {
   "cell_type": "code",
   "execution_count": 1,
   "metadata": {},
   "outputs": [
    {
     "name": "stderr",
     "output_type": "stream",
     "text": [
      "/anaconda3/envs/POMR/lib/python3.7/site-packages/requests/__init__.py:91: RequestsDependencyWarning: urllib3 (1.25.10) or chardet (3.0.4) doesn't match a supported version!\n",
      "  RequestsDependencyWarning)\n"
     ]
    }
   ],
   "source": [
    "import time\n",
    "\n",
    "from umls_api_auth import Authentication\n",
    "import requests as rq\n",
    "from collections import defaultdict\n",
    "from tqdm import tqdm"
   ]
  },
  {
   "cell_type": "code",
   "execution_count": 2,
   "metadata": {},
   "outputs": [],
   "source": [
    "rxns = set([line.strip()[3:] for line in open('vocab.txt') if line.startswith('RX_')])"
   ]
  },
  {
   "cell_type": "code",
   "execution_count": 3,
   "metadata": {},
   "outputs": [],
   "source": [
    "auth = Authentication('MY-SECRET-KEY')\n",
    "tgt = auth.gettgt()\n",
    "\n",
    "URI = \"https://uts-ws.nlm.nih.gov/rest\""
   ]
  },
  {
   "cell_type": "code",
   "execution_count": 4,
   "metadata": {},
   "outputs": [
    {
     "name": "stderr",
     "output_type": "stream",
     "text": [
      "100%|██████████| 587/587 [09:24<00:00,  1.12it/s]\n"
     ]
    }
   ],
   "source": [
    "rxn2cuis = defaultdict(set)\n",
    "for med in tqdm(rxns):\n",
    "    route = f'/content/current/source/RXNORM/{med}/atoms'\n",
    "    query = {'ticket': auth.getst(tgt)}\n",
    "    res = rq.get(URI+route, params=query)\n",
    "    if res.status_code == 200:\n",
    "        cuis = [result['concept'].split('/')[-1] for result in res.json()['result']]\n",
    "        rxn2cuis[med].update(cuis)\n",
    "    # rate limit to 20 requests/sec\n",
    "    time.sleep(0.05)"
   ]
  },
  {
   "cell_type": "code",
   "execution_count": 5,
   "metadata": {},
   "outputs": [],
   "source": [
    "with open('data/rxn2cuis.txt', 'w') as of:\n",
    "    for rxn, cuis in rxn2cuis.items():\n",
    "        for cui in cuis:\n",
    "            of.write(','.join([rxn, cui]) + '\\n')"
   ]
  },
  {
   "cell_type": "markdown",
   "metadata": {},
   "source": [
    "## Initialize problem and target embeddings\n",
    "Section 3.2 \"Initialization and pre-processing\""
   ]
  },
  {
   "cell_type": "code",
   "execution_count": 13,
   "metadata": {
    "scrolled": false
   },
   "outputs": [
    {
     "name": "stdout",
     "output_type": "stream",
     "text": [
      "loading dx code embeddings\n",
      "loading cui embeddings\n",
      "loading CPT, LOINC code embeddings\n",
      "loading problem definitions\n",
      "building vocab\n",
      "loading random init embeddings for missing codes\n",
      "frac of rxn codes with embeddings: 292/587\n",
      "frac of lab codes with embeddings: 287/451\n",
      "frac of CPT codes with embeddings: 333/451\n"
     ]
    }
   ],
   "source": [
    "%run init_embed.py embeddings/claims_codes_hs_300.txt w2v 300"
   ]
  },
  {
   "cell_type": "markdown",
   "metadata": {},
   "source": [
    "## Table 2: held-out triplets, Choi et al embeddings\n",
    "Section 4.1 \"Held-out triplets\""
   ]
  },
  {
   "cell_type": "code",
   "execution_count": 4,
   "metadata": {
    "scrolled": true
   },
   "outputs": [
    {
     "name": "stdout",
     "output_type": "stream",
     "text": [
      "starting!\n",
      "COMMAND: train.py embeddings/clinicalml.txt vocab.txt data/train_rand.csv --patience 10 --max_epochs 100 --criterion mr --px_codes data/intersect_pxs.txt --rxn_codes data/intersect_rxns.txt --loinc_codes data/intersect_loincs.txt --use_negs --lr 1e-4 --split_type triplets --run_test\n"
     ]
    },
    {
     "name": "stderr",
     "output_type": "stream",
     "text": [
      "/anaconda3/envs/POMR/lib/python3.7/site-packages/smart_open/smart_open_lib.py:254: UserWarning: This function is deprecated, use smart_open.open instead. See the migration notes for details: https://github.com/RaRe-Technologies/smart_open/blob/master/README.rst#migrating-to-the-new-open-function\n",
      "  'See the migration notes for details: %s' % _MIGRATION_NOTES_URL\n"
     ]
    },
    {
     "name": "stdout",
     "output_type": "stream",
     "text": [
      ". . . . . . . . . . . . . !!! early stopping hit !!!\n",
      "\n",
      "Reloading and evaluating model with best mr (epoch 2)\n",
      "\n",
      "RUNNING TEST\n",
      "METRICS\n",
      "MR,MRR,RX_MRR,RX_H@1,PX_MRR,PX_H@1,LAB_MRR,LAB_H@1\n",
      "Choi et al,1.56,0.827,0.816,0.690,0.892,0.812,0.736,0.571\n",
      "\n",
      "THIS RUN'S RESULT DIR IS: results/distmult_clinicalml_Jul_31_16:24:33\n",
      "\n",
      "\n",
      "\n"
     ]
    }
   ],
   "source": [
    "%run train.py embeddings/clinicalml.txt\\\n",
    "              vocab.txt \\\n",
    "              data/train_rand.csv \\\n",
    "              --patience 10\\\n",
    "              --max_epochs 100\\\n",
    "              --criterion mr\\\n",
    "              --px_codes data/intersect_pxs.txt\\\n",
    "              --rxn_codes data/intersect_rxns.txt\\\n",
    "              --loinc_codes data/intersect_loincs.txt\\\n",
    "              --use_negs\\\n",
    "              --lr 1e-4\\\n",
    "              --split_type triplets\\\n",
    "              --run_test"
   ]
  },
  {
   "cell_type": "markdown",
   "metadata": {},
   "source": [
    "Compare the above to line 4 \"Choi et al (2016)\" of Table 2 in the paper. "
   ]
  },
  {
   "cell_type": "markdown",
   "metadata": {},
   "source": [
    "## Table 3: held-out problems, Choi et al embeddings\n",
    "Section 4.2 \"Held-out problems\""
   ]
  },
  {
   "cell_type": "code",
   "execution_count": 5,
   "metadata": {
    "scrolled": true
   },
   "outputs": [
    {
     "name": "stdout",
     "output_type": "stream",
     "text": [
      "starting!\n",
      "COMMAND: train.py embeddings/clinicalml.txt vocab.txt data/train_probs.csv --patience 10 --max_epochs 100 --criterion mr --px_codes data/intersect_pxs.txt --rxn_codes data/intersect_rxns.txt --loinc_codes data/intersect_loincs.txt --use_negs --lr 1e-4 --run_test\n",
      ". . . . . . . . . . . . . . . !!! early stopping hit !!!\n",
      "\n",
      "Reloading and evaluating model with best mr (epoch 4)\n",
      "\n",
      "RUNNING TEST\n",
      "METRICS\n",
      "MR,MRR,RX_MRR,RX_H@5,PX_MRR,PX_H@5,LAB_MRR,LAB_H@5\n",
      "Choi et al,7.08,0.392,0.375,0.493,0.451,0.800,0.377,0.765\n",
      "\n",
      "MATRIX\n",
      "lab, sleep_apnea: 1.000\n",
      "lab, hypokalemia: 0.100\n",
      "lab, thrombocytopenia: 0.667\n",
      "lab, hypertension: 1.000\n",
      "lab, uti: 0.970\n",
      "medication, sleep_apnea: 0.000\n",
      "medication, hypokalemia: 0.000\n",
      "medication, thrombocytopenia: 0.333\n",
      "medication, hypertension: 0.528\n",
      "medication, uti: 0.789\n",
      "procedure, sleep_apnea: 1.000\n",
      "procedure, hypokalemia: 1.000\n",
      "procedure, thrombocytopenia: 0.750\n",
      "procedure, hypertension: 0.833\n",
      "procedure, uti: 0.667\n",
      "\n",
      "THIS RUN'S RESULT DIR IS: results/distmult_clinicalml_Jul_31_16:25:33\n",
      "\n",
      "\n",
      "\n"
     ]
    }
   ],
   "source": [
    "%run train.py embeddings/clinicalml.txt\\\n",
    "              vocab.txt \\\n",
    "              data/train_probs.csv \\\n",
    "              --patience 10\\\n",
    "              --max_epochs 100\\\n",
    "              --criterion mr\\\n",
    "              --px_codes data/intersect_pxs.txt\\\n",
    "              --rxn_codes data/intersect_rxns.txt\\\n",
    "              --loinc_codes data/intersect_loincs.txt\\\n",
    "              --use_negs\\\n",
    "              --lr 1e-4\\\n",
    "              --run_test"
   ]
  },
  {
   "cell_type": "markdown",
   "metadata": {},
   "source": [
    "Compare the above results (under \"METRICS\") to line 4 \"Choi et al (2016)\" of Table 3 in the paper. "
   ]
  },
  {
   "cell_type": "markdown",
   "metadata": {},
   "source": [
    "## Table 5: Examples\n",
    "\n",
    "This will not give identical results, as the table in the paper is derived from a model that uses the site-specific data features."
   ]
  },
  {
   "cell_type": "code",
   "execution_count": 6,
   "metadata": {},
   "outputs": [],
   "source": [
    "# Paste the result directory (after \"THIS RUN'S RESULT DIR IS: \" above) into\n",
    "s = open('results/distmult_clinicalml_Jul_31_16:25:33/html_examples.txt').read().split('\\n')"
   ]
  },
  {
   "cell_type": "code",
   "execution_count": 7,
   "metadata": {
    "scrolled": true
   },
   "outputs": [
    {
     "data": {
      "text/html": [
       "<table><tr><td>Hypertension</td></tr>\n",
       "<table><tr><td>Medication</td><td>Procedure</td><td>Lab</td></tr>\n",
       "<tr><td><span style=\"color: blue; font-weight: 600\">6918</span></td><td><span style=\"color: blue; font-weight: 600\">93000</span></td><td><span style=\"color: blue; font-weight: 600\">2160-0</span></td></tr>\n",
       "<tr><td><span style=\"color: blue; font-weight: 600\">11170</span></td><td>93224</td><td>30934-4</td></tr>\n",
       "<tr><td><span style=\"color: blue; font-weight: 600\">1202</span></td><td>93288</td><td>2345-7</td></tr>\n",
       "<tr><td><span style=\"color: blue; font-weight: 600\">3443</span></td><td><span style=\"color: blue; font-weight: 600\">93306</span></td><td>5902-2</td></tr>\n",
       "<tr><td><span style=\"color: blue; font-weight: 600\">17767</span></td><td><span style=\"color: blue; font-weight: 600\">93351</span></td><td>2951-2</td></tr>\n",
       "<tr><td><span style=\"color: blue; font-weight: 600\">69749</span></td><td><span style=\"color: blue; font-weight: 600\">93010</span></td><td>2823-3</td></tr>\n",
       "<tr><td>25789</td><td><span style=\"color: blue; font-weight: 600\">93005</span></td><td>3094-0</td></tr>\n",
       "<tr><td><span style=\"color: blue; font-weight: 600\">6057</span></td><td>93225</td><td>6301-6</td></tr>\n",
       "<tr><td><span style=\"color: blue; font-weight: 600\">20352</span></td><td>93798</td><td>2028-9</td></tr>\n",
       "<tr><td><span style=\"color: blue; font-weight: 600\">4917</span></td><td>J1030</td><td>10535-3</td></tr>\n",
       "</table><table><tr><td>Uti</td></tr>\n",
       "<table><tr><td>Medication</td><td>Procedure</td><td>Lab</td></tr>\n",
       "<tr><td><span style=\"color: blue; font-weight: 600\">7454</span></td><td><span style=\"color: blue; font-weight: 600\">76770</span></td><td><span style=\"color: blue; font-weight: 600\">6463-4</span></td></tr>\n",
       "<tr><td><span style=\"color: blue; font-weight: 600\">2551</span></td><td><span style=\"color: blue; font-weight: 600\">51702</span></td><td><span style=\"color: blue; font-weight: 600\">43409-2</span></td></tr>\n",
       "<tr><td><span style=\"color: blue; font-weight: 600\">8120</span></td><td>51700</td><td><span style=\"color: blue; font-weight: 600\">18970-4</span></td></tr>\n",
       "<tr><td><span style=\"color: blue; font-weight: 600\">10180</span></td><td><span style=\"color: blue; font-weight: 600\">74150</span></td><td><span style=\"color: blue; font-weight: 600\">18868-0</span></td></tr>\n",
       "<tr><td><span style=\"color: blue; font-weight: 600\">10829</span></td><td><span style=\"color: blue; font-weight: 600\">51798</span></td><td><span style=\"color: blue; font-weight: 600\">18879-7</span></td></tr>\n",
       "<tr><td><span style=\"color: blue; font-weight: 600\">82122</span></td><td><span style=\"color: blue; font-weight: 600\">74400</span></td><td><span style=\"color: blue; font-weight: 600\">18895-3</span></td></tr>\n",
       "<tr><td><span style=\"color: blue; font-weight: 600\">733</span></td><td><span style=\"color: blue; font-weight: 600\">52000</span></td><td>2106-3</td></tr>\n",
       "<tr><td>4450</td><td>76856</td><td><span style=\"color: blue; font-weight: 600\">18865-6</span></td></tr>\n",
       "<tr><td><span style=\"color: blue; font-weight: 600\">2194</span></td><td><span style=\"color: blue; font-weight: 600\">52005</span></td><td><span style=\"color: blue; font-weight: 600\">18864-9</span></td></tr>\n",
       "<tr><td><span style=\"color: blue; font-weight: 600\">77492</span></td><td><span style=\"color: blue; font-weight: 600\">52310</span></td><td><span style=\"color: blue; font-weight: 600\">18955-5</span></td></tr>\n",
       "</table><table><tr><td>Thrombocytopenia</td></tr>\n",
       "<table><tr><td>Medication</td><td>Procedure</td><td>Lab</td></tr>\n",
       "<tr><td><span style=\"color: blue; font-weight: 600\">105694</span></td><td>76700</td><td>17849-1</td></tr>\n",
       "<tr><td><span style=\"color: blue; font-weight: 600\">24947</span></td><td><span style=\"color: blue; font-weight: 600\">J1441</span></td><td>15061-5</td></tr>\n",
       "<tr><td>8704</td><td><span style=\"color: blue; font-weight: 600\">J1440</span></td><td>43399-5</td></tr>\n",
       "<tr><td>7806</td><td><span style=\"color: blue; font-weight: 600\">38221</span></td><td>2160-0</td></tr>\n",
       "<tr><td>4511</td><td><span style=\"color: blue; font-weight: 600\">38220</span></td><td><span style=\"color: blue; font-weight: 600\">5902-2</span></td></tr>\n",
       "<tr><td>6918</td><td>76705</td><td><span style=\"color: blue; font-weight: 600\">718-7</span></td></tr>\n",
       "<tr><td>8640</td><td>74150</td><td><span style=\"color: blue; font-weight: 600\">14979-9</span></td></tr>\n",
       "<tr><td><span style=\"color: blue; font-weight: 600\">338036</span></td><td><span style=\"color: blue; font-weight: 600\">G0306</span></td><td><span style=\"color: blue; font-weight: 600\">6301-6</span></td></tr>\n",
       "<tr><td>10180</td><td><span style=\"color: blue; font-weight: 600\">70450</span></td><td>4542-7</td></tr>\n",
       "<tr><td>82122</td><td>J2997</td><td>55301-6</td></tr>\n",
       "</table><table><tr><td>Sleep apnea</td></tr>\n",
       "<table><tr><td>Medication</td><td>Procedure</td><td>Lab</td></tr>\n",
       "<tr><td>67108</td><td><span style=\"color: blue; font-weight: 600\">94660</span></td><td>6301-6</td></tr>\n",
       "<tr><td>88249</td><td><span style=\"color: blue; font-weight: 600\">95811</span></td><td>10366-3</td></tr>\n",
       "<tr><td>60548</td><td><span style=\"color: blue; font-weight: 600\">95810</span></td><td>3854-7</td></tr>\n",
       "<tr><td>7213</td><td>95807</td><td>33762-6</td></tr>\n",
       "<tr><td><span style=\"color: blue; font-weight: 600\">10355</span></td><td><span style=\"color: blue; font-weight: 600\">94762</span></td><td><span style=\"color: blue; font-weight: 600\">30934-4</span></td></tr>\n",
       "<tr><td>7804</td><td>94760</td><td>2160-0</td></tr>\n",
       "<tr><td>4603</td><td>93010</td><td>718-7</td></tr>\n",
       "<tr><td>86009</td><td>93000</td><td>2276-4</td></tr>\n",
       "<tr><td>41126</td><td>94010</td><td>10535-3</td></tr>\n",
       "<tr><td>20352</td><td>93351</td><td>6690-2</td></tr>\n",
       "</table><table><tr><td>Hypokalemia</td></tr>\n",
       "<table><tr><td>Medication</td><td>Procedure</td><td>Lab</td></tr>\n",
       "<tr><td>67108</td><td><span style=\"color: blue; font-weight: 600\">93010</span></td><td>13969-1</td></tr>\n",
       "<tr><td>6185</td><td>93306</td><td>30934-4</td></tr>\n",
       "<tr><td>4850</td><td><span style=\"color: blue; font-weight: 600\">93005</span></td><td>33762-6</td></tr>\n",
       "<tr><td>3423</td><td>71250</td><td><span style=\"color: blue; font-weight: 600\">2160-0</span></td></tr>\n",
       "<tr><td>6918</td><td>93225</td><td>5902-2</td></tr>\n",
       "<tr><td>7806</td><td><span style=\"color: blue; font-weight: 600\">93000</span></td><td>718-7</td></tr>\n",
       "<tr><td>3443</td><td>93351</td><td>2777-1</td></tr>\n",
       "<tr><td>11289</td><td>93732</td><td>6301-6</td></tr>\n",
       "<tr><td>5224</td><td>93280</td><td>1763-2</td></tr>\n",
       "<tr><td>4917</td><td>93283</td><td>2915-7</td></tr>\n",
       "</table>"
      ],
      "text/plain": [
       "<IPython.core.display.HTML object>"
      ]
     },
     "execution_count": 7,
     "metadata": {},
     "output_type": "execute_result"
    }
   ],
   "source": [
    "from IPython.display import HTML\n",
    "s = '\\n'.join(s)\n",
    "h = HTML(s); h"
   ]
  },
  {
   "cell_type": "markdown",
   "metadata": {},
   "source": [
    "## Table 3 (cont): Ontology baselines"
   ]
  },
  {
   "cell_type": "code",
   "execution_count": 8,
   "metadata": {},
   "outputs": [
    {
     "name": "stdout",
     "output_type": "stream",
     "text": [
      "loading problem definitions\n",
      "num all meds: 587\n",
      "num rxnorm meds: 413\n",
      "processing NEGATIVES\n",
      "\n",
      "\n",
      "processing POSITIVES\n",
      "MR: 30.069767441860463, MRR: 0.04327666122621905, H@1: 0.0, H@5: 0.023255813953488372, H@10: 0.023255813953488372, H@30: 0.7093023255813954\n"
     ]
    }
   ],
   "source": [
    "%run compute_ndfrt_baseline.py"
   ]
  },
  {
   "cell_type": "markdown",
   "metadata": {},
   "source": [
    "Compare the above results (MRR and H@5) to line 1 \"Ontology baselines\" of Table 3 in the paper: columns \"Medications MRR\" and \"Medications H@5\""
   ]
  },
  {
   "cell_type": "markdown",
   "metadata": {},
   "source": [
    "Before running the below, edit the line in `compute_cpt_baseline.py` that has `'MY-SECRET-KEY'` to instead use your UMLS API key. "
   ]
  },
  {
   "cell_type": "code",
   "execution_count": 10,
   "metadata": {
    "scrolled": true
   },
   "outputs": [
    {
     "name": "stdout",
     "output_type": "stream",
     "text": [
      "loading problem definitions\n",
      "num all procs: 541\n",
      "num cpt procs: 425\n",
      "MR: 24.42063492063492, MRR: 0.14042622893554568, H@1: 0.031746031746031744, H@5: 0.20634920634920634, H@10: 0.30158730158730157, H@30: 0.7619047619047619\n"
     ]
    }
   ],
   "source": [
    "%run compute_cpt_baseline.py"
   ]
  },
  {
   "cell_type": "markdown",
   "metadata": {},
   "source": [
    "Compare the above results (MRR and H@5) to line 1 \"Ontology baselines\" of Table 3 in the paper: columns \"Procedures MRR\" and \"Procedures H@5\""
   ]
  }
 ],
 "metadata": {
  "kernelspec": {
   "display_name": "Python 3",
   "language": "python",
   "name": "python3"
  },
  "language_info": {
   "codemirror_mode": {
    "name": "ipython",
    "version": 3
   },
   "file_extension": ".py",
   "mimetype": "text/x-python",
   "name": "python",
   "nbconvert_exporter": "python",
   "pygments_lexer": "ipython3",
   "version": "3.7.7"
  }
 },
 "nbformat": 4,
 "nbformat_minor": 2
}
